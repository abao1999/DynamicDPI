{
 "cells": [
  {
   "cell_type": "markdown",
   "id": "b5beb24b",
   "metadata": {},
   "source": [
    "# DynamicDPI\n",
    "Message-passing with Deep Probabilistic Imaging (DPI) to reconstruct video of quickly-evolving sources. The goal is to capture the appearance and dyanmics, while quantifying uncertainty, by learning the posterior distributions rather than just point estimates. We compute forwared and backward messages for the sum-product algorithm in order to calculate the marginal distributions, to perform inference on a graphical model of the hidden images."
   ]
  },
  {
   "cell_type": "markdown",
   "id": "e620ba14",
   "metadata": {},
   "source": [
    "## Overview of DPI\n",
    "DPI parameterizes the latent image distribution using a flow-based generative model $G_{\\theta}$ to learn an approximate distribution $q_{\\theta}$. The weights $\\theta$ are learned by minimizing the Kullback-Leibler (KL) divergence between $q_{\\theta}$ and the image posterior $p(x|y)$\n",
    "\n",
    "Succinctly, $x \\sim q_{\\theta} (x) \\Leftrightarrow x = G_{\\theta}, z \\sim \\mathcal{N}(0,1)$. \n",
    "\n",
    "\\begin{equation}\n",
    "    \\theta^{*} = \\text{argmin}_{\\theta} D_{KL} (q_{\\theta} (x) || p(x | y)) = \\text{argmin}_{\\theta} \\mathbb{E}_{x \\sim q_{\\theta} (x)} [- \\log p(y|x) - \\log p(x) + \\log q_{\\theta} (x)]\n",
    "\\end{equation}\n",
    "\n",
    "Note that Normalizing Flows provide exact log-likelihood calculation through the change of variables theorem, and thus $\\log q_{\\theta} (x) = \\log \\pi (z) - \\log \\left| \\text{det} \\frac{dG_{\\theta} (z)}{dz} \\right|$. Thus, the stochastic optimization problem becomes\n",
    "\n",
    "\\begin{equation}\n",
    "    \\theta^{*} = \\text{argmin}_{\\theta} \\mathbb{E}_{z \\sim \\mathcal{N}(0,1)} \\left[ -\\log p(y | G_{\\theta} (z)) - \\log p(G_{\\theta} (z)) + \\log \\pi(x) - \\log \\left| \\text{det} \\frac{dG_{\\theta} (z)}{dz} \\right| \\right]\n",
    "\\end{equation}\n",
    "\n",
    "By using a Monte Carlo method to approximate the expectation over the standard normal distribution and by replacing the data likelihood and prior terms with the data fitting loss and regularization functions, we get:\n",
    "\n",
    "\\begin{equation}\n",
    "    \\theta^{*} = \\text{argmin}_{\\theta} \\sum_{k=1}^{N} \\left[ \\mathcal{L} (y, f(G_{\\theta} (z_{k}))) + \\lambda \\mathcal{R} (G_{\\theta} (z_{k})) - \\beta \\log \\left| \\text{det} \\frac{dG_{\\theta} (z_{k})}{dz_{k}} \\right| \\right]\n",
    "\\end{equation}\n",
    "\n",
    "Where the $\\beta$ parameter allows us to tune the diversity of the reconstructions via adjustment of the generative distribution's entropy. Intuitively, $\\beta$ encourages more exploration during training."
   ]
  },
  {
   "cell_type": "code",
   "execution_count": 4,
   "id": "ee9f57bf",
   "metadata": {},
   "outputs": [
    {
     "name": "stdout",
     "output_type": "stream",
     "text": [
      "checkpoint\t       generative_model\t\t  train_dpi_interferometry.sh\r\n",
      "DPI_2Dtoydist.py       interferometry_helpers.py  train_dpi_mri.sh\r\n",
      "DPI_interferometry.py  MRI_helpers.py\r\n",
      "DPI_MRI.py\t       notebooks\r\n"
     ]
    }
   ],
   "source": [
    "!ls ../DPItorch"
   ]
  },
  {
   "cell_type": "code",
   "execution_count": 3,
   "id": "4de13ac9",
   "metadata": {},
   "outputs": [],
   "source": [
    "import numpy as np\n",
    "import torch\n",
    "import torch.nn as nn\n",
    "import torch.nn.init as init\n",
    "import torch.nn.functional as functional\n",
    "\n",
    "torch.set_default_dtype(torch.float32)\n",
    "import torch.optim as optim\n",
    "import pickle\n",
    "import math\n",
    "# from sys import exit\n",
    "import matplotlib.pyplot as plt\n",
    "from sklearn import datasets\n",
    "\n",
    "import os,sys,inspect\n",
    "currentdir = os.path.dirname(os.path.abspath(inspect.getfile(inspect.currentframe())))\n",
    "parentdir = os.path.dirname(currentdir)\n",
    "sys.path.insert(0,parentdir) \n",
    "\n",
    "from DPItorch.generative_model import realnvpfc_model"
   ]
  },
  {
   "cell_type": "markdown",
   "id": "dd8c3780",
   "metadata": {},
   "source": [
    "Set up toy example: Gaussian mixture (four bivariate Gaussians)"
   ]
  },
  {
   "cell_type": "code",
   "execution_count": 4,
   "id": "00ed40c1",
   "metadata": {},
   "outputs": [],
   "source": [
    "# Example 1 - Gaussian mixture\n",
    "x1, y1, a1, sigma1 = -0.5, -0.5, 1, 0.4\n",
    "x2, y2, a2, sigma2 = -0.5, 0.5, 1, 0.4\n",
    "x3, y3, a3, sigma3 = 0.5, -0.5, 1, 0.4\n",
    "x4, y4, a4, sigma4 = 0.5, 0.5, 1, 0.4\n",
    "log_prob1 = lambda x, y: torch.log(a1 * torch.exp(-1/sigma1**2*((x-x1)**2+(y-y1)**2)) + \\\n",
    "                        a2 * torch.exp(-1/sigma2**2*((x-x2)**2+(y-y2)**2)) + \\\n",
    "                        a3 * torch.exp(-1/sigma3**2*((x-x3)**2+(y-y3)**2)) + \\\n",
    "                        a4 * torch.exp(-1/sigma4**2*((x-x4)**2+(y-y4)**2)))"
   ]
  },
  {
   "cell_type": "markdown",
   "id": "4d1be762",
   "metadata": {},
   "source": [
    "Train DPI: train the normalizing flow to approximate the probability distribution defined earlier"
   ]
  },
  {
   "cell_type": "code",
   "execution_count": 5,
   "id": "98538605",
   "metadata": {},
   "outputs": [
    {
     "name": "stdout",
     "output_type": "stream",
     "text": [
      "epoch: 299, loss: 3.74737\n",
      "epoch: 599, loss: 3.68359\n",
      "epoch: 899, loss: 3.66782\n",
      "epoch: 1199, loss: 3.65578\n",
      "epoch: 1499, loss: 3.59218\n",
      "epoch: 1799, loss: 3.54653\n",
      "epoch: 2099, loss: 3.71498\n",
      "epoch: 2399, loss: 3.54488\n",
      "epoch: 2699, loss: 3.59891\n",
      "epoch: 2999, loss: 3.59231\n"
     ]
    },
    {
     "data": {
      "text/plain": [
       "(<Figure size 432x288 with 1 Axes>,\n",
       " [<matplotlib.lines.Line2D at 0x7f0b635b2e90>],\n",
       " Text(0.5, 0, 'epochs'),\n",
       " Text(0, 0.5, 'loss'))"
      ]
     },
     "execution_count": 5,
     "metadata": {},
     "output_type": "execute_result"
    },
    {
     "data": {
      "image/png": "[encoded data removed]",
      "text/plain": [
       "<Figure size 432x288 with 1 Axes>"
      ]
     },
     "metadata": {
      "needs_background": "light"
     },
     "output_type": "display_data"
    }
   ],
   "source": [
    "loss_func = lambda x, y: -log_prob1(x, y) # select the likelihood function to estimate\n",
    "\n",
    "# Define the architecture of normalizing flow\n",
    "device = torch.device(\"cuda\" if torch.cuda.is_available() else \"cpu\")#torch.device(\"cpu\")#\n",
    "\n",
    "affine = True\n",
    "n_flow = 16#8#32\n",
    "generator = realnvpfc_model.RealNVP(2, n_flow, affine=affine, seqfrac=1/128).to(device)\n",
    "\n",
    "# define the optimizer\n",
    "optimizer = optim.Adam(generator.parameters(), lr = 1e-5)\n",
    "\n",
    "n_epoch = 3000 # number of optimization steps\n",
    "diversity = 1 # weight of the diversity loss\n",
    "n_samples = 512 # number of samples in each optimization step\n",
    "\n",
    "# start optimization\n",
    "loss_list = []\n",
    "sample_list = []\n",
    "for k in range(n_epoch):\n",
    "    x_samples_transformed, logdet = generator.reverse(torch.randn((n_samples, 2)).to(device))\n",
    "    x_samples = 2 * torch.sigmoid(x_samples_transformed) - 1\n",
    "    det_sigmoid = torch.sum(-x_samples_transformed - 2 * torch.nn.Softplus()(-x_samples_transformed), -1)\n",
    "    logdet = logdet + det_sigmoid\n",
    "\n",
    "    loss = torch.mean(loss_func(x_samples[:, 0], x_samples[:, 1]) - diversity * logdet)\n",
    "    loss_list.append(loss.detach().cpu().numpy())\n",
    "\n",
    "    optimizer.zero_grad()\n",
    "    loss.backward()\n",
    "    nn.utils.clip_grad_norm_(generator.parameters(), 1e-5)\n",
    "    optimizer.step()\n",
    "\n",
    "    if (k + 1) % 300 == 0:\n",
    "        print(f\"epoch: {k:}, loss: {loss.item():.5f}\")\n",
    "        sample_list.append(x_samples.detach().cpu().numpy())\n",
    "\n",
    "plt.figure(), plt.plot(loss_list), plt.xlabel('epochs'), plt.ylabel('loss')"
   ]
  },
  {
   "cell_type": "code",
   "execution_count": 13,
   "id": "79924175",
   "metadata": {},
   "outputs": [
    {
     "data": {
      "text/plain": [
       "[Text(0.5, 0, 'Learned distribution')]"
      ]
     },
     "execution_count": 13,
     "metadata": {},
     "output_type": "execute_result"
    },
    {
     "data": {
      "image/png": "[encoded data removed]",
      "text/plain": [
       "<Figure size 1152x288 with 5 Axes>"
      ]
     },
     "metadata": {
      "needs_background": "light"
     },
     "output_type": "display_data"
    }
   ],
   "source": [
    "generator.training = False\n",
    "fig, axs = plt.subplots(1, 3, figsize=(16, 4))\n",
    "\n",
    "# plot generative samples\n",
    "x_samples_transformed, logdet = generator.reverse(torch.randn((n_samples, 2)).to(device))\n",
    "x_samples = 2 * torch.sigmoid(x_samples_transformed) - 1\n",
    "x_generated = x_samples.detach().cpu().numpy()\n",
    "# plt.figure(), plt.plot(x_generated[:, 0], x_generated[:, 1], 'rx')\n",
    "# plt.title('Generative samples')\n",
    "axs[0].plot(x_generated[:, 0], x_generated[:, 1], 'rx')\n",
    "axs[0].set(xlabel='Generative samples')\n",
    "\n",
    "# plot the ground-truth distribution\n",
    "x_range = np.arange(-0.95, 0.95, 0.05)\n",
    "y_range = np.arange(-0.95, 0.95, 0.05)\n",
    "\n",
    "X, Y = np.meshgrid(x_range, y_range)\n",
    "value = loss_func(torch.tensor(X), torch.tensor(Y)).numpy()\n",
    "Z = np.array(value)\n",
    "prob_true = np.exp(-Z) / np.sum(np.exp(-Z))\n",
    "\n",
    "im = axs[1].contourf(X, Y, prob_true, 40)\n",
    "cbar = fig.colorbar(im, ax=axs[1])\n",
    "cbar.ax.tick_params(labelsize=8)\n",
    "axs[1].set(xlabel='Groud-truth distribution')\n",
    "\n",
    "# plot the learned distribution\n",
    "X_reshape = X.reshape((-1, 1))\n",
    "Y_reshape = Y.reshape((-1, 1))\n",
    "XY_reshape = np.concatenate([X_reshape, Y_reshape], -1).astype(np.float32)\n",
    "XY_reshape_torch = torch.tensor(XY_reshape).to(device)\n",
    "XY_reshape_transoformed = torch.log(1+XY_reshape_torch+1e-8) - torch.log(1-XY_reshape_torch+1e-8)\n",
    "random_samples, logdet = generator.forward(XY_reshape_transoformed)\n",
    "det_sigmoid = torch.sum(XY_reshape_transoformed + 2 * torch.nn.Softplus()(-XY_reshape_transoformed), -1)\n",
    "logdet = logdet + det_sigmoid\n",
    "\n",
    "logprob = logdet.cpu().detach().numpy() - 0.5 * np.sum((random_samples.cpu().detach().numpy())**2+np.log(2*np.pi), -1)\n",
    "logprob = logprob.reshape(X.shape)\n",
    "prob = np.exp(logprob) / np.sum(np.exp(logprob))\n",
    "\n",
    "im = axs[2].contourf(X_reshape.reshape((len(x_range), len(y_range))), Y_reshape.reshape((len(x_range), len(y_range))), prob, 40)\n",
    "cbar = fig.colorbar(im, ax=axs[2])\n",
    "cbar.ax.tick_params(labelsize=8)\n",
    "axs[2].set(xlabel='Learned distribution')"
   ]
  },
  {
   "cell_type": "markdown",
   "id": "2c19e76a",
   "metadata": {},
   "source": [
    "## Probabilistic Graphical Model\n",
    "We use a probabilistic graphical model to represent the hidden images of the dynamically-evolving source. Specifically, we start with an undirected tree graph without loops, and at each time step, we make use of three potential functions: \n",
    "\n",
    "\\begin{equation}\n",
    "    \\begin{aligned}\n",
    "    \\phi_{y_{t} | x_{t}} &= \\mathcal{N}_{y_{t}} ( f_{t} (x_{t}), R_{t}) \\\\\n",
    "    \\phi_{x_{t}} &= \\mathcal{N}_{x_{1}} (\\mu_{t}, \\Lambda_{t}), \\\\ \n",
    "    \\phi_{x_{t} | x_{t-1}} &= \\mathcal{N}_{x_{t}} (A x_{t-1}, Q),\n",
    "    \\\\\n",
    "    \\end{aligned}\n",
    "\\end{equation}\n",
    "\n",
    "Where $x_{t}$ is an instantaneous hidden image reconstructed from a sparse set of frequency measurements $y_{t}$. The measurement function $f(x)$ can be a linear (just the complex visibilities) or non-linear (bispectrum and closure phases, invariant to atmospheric inhomogeneity) function of $x$ depending on which data products are being measured. And $R$ is the corresponding noise associated with the measurements $y$. And each instantaneous image is encouraged to be a sample from a multivariate Gaussian distribution (our prior) with time-independent covariance matrix $\\Lambda$. And finally, the joint potential encodes our knowledge of the dynamic evolution model $A$, with covariance matrix $Q$ constraining additional intensity perturbations. For now, we assume the evolution model $A$ is known.\n",
    "\n",
    "### Inference\n",
    "We need to compute the marginal distributions for each instantaneous image $x_{t}$ conditioned on all the sparse observations $y_{1} \\ldots y_{N}$. We can carry out this marginalization using the Elimination Algorithm: $p(x_{t} | y_{1:N}) \\propto p(x_{t}, y_{1:N}) \\propto \\phi_{t} (x_{t}) m_{t-1 \\rightarrow t} (x_{t}) m_{t+1 \\rightarrow t} (x_{t})$. \n",
    "\n",
    "Specifically, we use the sum-product algorithm, which is more efficient than the vanilla Elimination Algorithm, to retrieve marginals for multiple different variables. Define the unary potential functions as $\\phi_{t} (x_{t}) = p(y_{t} | x_{t}) p(x_{t})$. Note that in the Gaussian case of convex imaging with the linear non-closure quantities, we express this unary potential exactly as $\\phi_{t} (x_{t}) = \\mathcal{N}_{y_{t}} (F_{t} x_{t}, R_{t}) \\mathcal{N}_{x_{t}} (\\mu, \\Lambda)$. Define the joint potential functions as $\\psi_{t-1, t} (x_{t-1}, x_{t}) = p(x_{t} | x_{t-1}) = \\mathcal{N}_{x_{t}} (A x_{t-1}, Q)$.\n",
    "\n",
    "The resulting sum-product messages are:\n",
    "\n",
    "\\begin{equation}\n",
    "    \\begin{aligned}\n",
    "        m_{1 \\rightarrow 2} (x_{2}) &= \\int_{x_{1}} \\phi_{1} (x_{1}) \\psi_{1,2} (x_{1}, x_{2}) dx_{1},\n",
    "        \\\\\n",
    "        m_{t \\rightarrow t+1} (x_{t+1}) &= \\int_{x_{t}} \\phi_{t} (x_{t}) \\psi_{t,t+1} (x_{t}, x_{t+1}) m_{t-1 \\rightarrow t} (x_{t}) dx_{t},\n",
    "        \\\\\n",
    "        m_{N \\rightarrow N-1} (x_{N-1}) &= \\int_{x_{N}} \\phi_{N} (x_{N}) \\psi_{N-1,N} (x_{N-1}, x_{N}) dx_{N},\n",
    "        \\\\\n",
    "        m_{t \\rightarrow t-1} (x_{t-1}) &= \\int_{x_{t}} \\phi_{t} (x_{t}) \\psi_{t-1,t} (x_{t-1}, x_{t}) m_{t+1 \\rightarrow t} (x_{t}) dx_{t},\n",
    "        \\\\\n",
    "    \\end{aligned}\n",
    "\\end{equation}"
   ]
  },
  {
   "cell_type": "markdown",
   "id": "7eefe654",
   "metadata": {},
   "source": [
    "### Implementation: Sum-Product Algorithm\n",
    "Also known as Belief Propagation"
   ]
  },
  {
   "cell_type": "code",
   "execution_count": 3,
   "id": "975a4483",
   "metadata": {},
   "outputs": [],
   "source": [
    "import numpy as np\n",
    "from collections import namedtuple"
   ]
  },
  {
   "cell_type": "code",
   "execution_count": 4,
   "id": "67ad1dd3",
   "metadata": {},
   "outputs": [],
   "source": [
    "LabeledArray = namedtuple('LabeledArray', [\n",
    "    'array',\n",
    "    'axes_labels',\n",
    "])\n",
    "\n",
    "def name_to_axis_mapping(labeled_array):\n",
    "    return {\n",
    "        name: axis\n",
    "        for axis, name in enumerate(labeled_array.axes_labels)\n",
    "    }\n",
    "\n",
    "def other_axes_from_labeled_axes(labeled_array, axis_label):\n",
    "    # returns the indexes of the axes that are not axis label\n",
    "    return tuple(\n",
    "        axis\n",
    "        for axis, name in enumerate(labeled_array.axes_labels)\n",
    "        if name != axis_label\n",
    "    )"
   ]
  },
  {
   "cell_type": "code",
   "execution_count": 5,
   "id": "7b05fedc",
   "metadata": {},
   "outputs": [],
   "source": [
    "def is_conditional_prob(labeled_array, var_name):\n",
    "    '''\n",
    "    labeled_array (LabeledArray)\n",
    "    variable (str): name of variable, i.e. 'a' in p(a|b)\n",
    "    '''\n",
    "    return np.all(np.isclose(np.sum(\n",
    "        labeled_array.array,\n",
    "        axis=name_to_axis_mapping(labeled_array)[var_name]\n",
    "    ), 1.0))\n",
    "    \n",
    "def is_joint_prob(labeled_array):\n",
    "    return np.all(np.isclose(np.sum(labeled_array.array), 1.0))"
   ]
  },
  {
   "cell_type": "code",
   "execution_count": 6,
   "id": "647c7d4c",
   "metadata": {},
   "outputs": [],
   "source": [
    "p_v1_given_h1 = LabeledArray(np.array([[0.4, 0.8, 0.9], [0.6, 0.2, 0.1]]), ['v1', 'h1'])\n",
    "\n",
    "p_h1 = LabeledArray(np.array([0.6, 0.3, 0.1]), ['h1'])\n",
    "\n",
    "p_v1_given_many = LabeledArray(np.array(\n",
    "    [[[0.9, 0.2], [0.3, 0.2]],\n",
    "     [[0.1, 0.8], [0.7, 0.8]]]\n",
    "), ['v1', 'h1', 'h2'])\n",
    "\n",
    "assert is_conditional_prob(p_v1_given_h1, 'v1')\n",
    "assert not is_joint_prob(p_v1_given_h1)\n",
    "\n",
    "assert is_conditional_prob(p_h1, 'h1')\n",
    "assert is_joint_prob(p_h1)\n",
    "\n",
    "assert is_conditional_prob(p_v1_given_many, 'v1')\n",
    "assert not is_joint_prob(p_v1_given_many)"
   ]
  },
  {
   "cell_type": "code",
   "execution_count": 7,
   "id": "d8dcad3d",
   "metadata": {},
   "outputs": [],
   "source": [
    "def tile_to_shape_along_axis(arr, target_shape, target_axis):\n",
    "    # get a list of all axes\n",
    "    raw_axes = list(range(len(target_shape)))\n",
    "    tile_dimensions = [target_shape[a] for a in raw_axes if a != target_axis]\n",
    "    if len(arr.shape) == 0:\n",
    "        # If given a scalar, also tile it in the target dimension (so it's a bunch of 1s)\n",
    "        tile_dimensions += [target_shape[target_axis]]\n",
    "    elif len(arr.shape) == 1:\n",
    "        # If given an array, it should be the same shape as the target axis\n",
    "        assert arr.shape[0] == target_shape[target_axis]\n",
    "        tile_dimensions += [1]\n",
    "    else:\n",
    "        raise NotImplementedError()\n",
    "    tiled = np.tile(arr, tile_dimensions)\n",
    "\n",
    "    # Tiling only adds prefix axes, so rotate this one back into place\n",
    "    shifted_axes = raw_axes[:target_axis] + [raw_axes[-1]] + raw_axes[target_axis:-1]\n",
    "    transposed = np.transpose(tiled, shifted_axes)\n",
    "\n",
    "    # Double-check this code tiled it to the correct shape\n",
    "    assert transposed.shape == target_shape\n",
    "    return transposed\n",
    "\n",
    "def tile_to_other_dist_along_axis_name(tiling_labeled_array, target_array):\n",
    "    assert len(tiling_labeled_array.axes_labels) == 1\n",
    "    target_axis_label = tiling_labeled_array.axes_labels[0]\n",
    "    \n",
    "    return LabeledArray(\n",
    "        tile_to_shape_along_axis(\n",
    "            tiling_labeled_array.array,\n",
    "            target_array.array.shape,\n",
    "            name_to_axis_mapping(target_array)[target_axis_label]\n",
    "        ),\n",
    "        axes_labels=target_array.axes_labels\n",
    "    )"
   ]
  },
  {
   "cell_type": "code",
   "execution_count": 8,
   "id": "8db4b758",
   "metadata": {},
   "outputs": [],
   "source": [
    "tiled_p_h1 = tile_to_other_dist_along_axis_name(p_h1, p_v1_given_h1)\n",
    "\n",
    "# Check that the product is a joint distribution (p(v1, h1))\n",
    "assert np.isclose(np.sum(p_v1_given_h1.array * tiled_p_h1.array), 1.0)"
   ]
  },
  {
   "cell_type": "markdown",
   "id": "4017c68d",
   "metadata": {},
   "source": [
    "#### Factor Graphs"
   ]
  },
  {
   "cell_type": "code",
   "execution_count": 11,
   "id": "3ec86bd3",
   "metadata": {},
   "outputs": [],
   "source": [
    "class Node(object):\n",
    "    def __init__(self, name):\n",
    "        self.name = name\n",
    "        self.neighbors = []\n",
    "\n",
    "    def __repr__(self):\n",
    "        return \"{classname}({name}, [{neighbors}])\".format(\n",
    "            classname=type(self).__name__,\n",
    "            name=self.name,\n",
    "            neighbors=', '.join([n.name for n in self.neighbors])\n",
    "        )\n",
    "\n",
    "    def is_valid_neighbor(self, neighbor):\n",
    "        raise NotImplemented()\n",
    "\n",
    "    def add_neighbor(self, neighbor):\n",
    "        assert self.is_valid_neighbor(neighbor)\n",
    "        self.neighbors.append(neighbor)\n",
    "\n",
    "\n",
    "class Variable(Node):\n",
    "    def is_valid_neighbor(self, factor):\n",
    "        return isinstance(factor, Factor)  # Variables can only neighbor Factors\n",
    "\n",
    "\n",
    "class Factor(Node):\n",
    "    def is_valid_neighbor(self, variable):\n",
    "        return isinstance(variable, Variable)  # Factors can only neighbor Variables\n",
    "\n",
    "    def __init__(self, name):\n",
    "        super(Factor, self).__init__(name)\n",
    "        self.data = None"
   ]
  },
  {
   "cell_type": "markdown",
   "id": "9ac80d61",
   "metadata": {},
   "source": [
    "#### Parse distributions into graphs"
   ]
  },
  {
   "cell_type": "code",
   "execution_count": 12,
   "id": "94657d52",
   "metadata": {},
   "outputs": [],
   "source": [
    "ParsedTerm = namedtuple('ParsedTerm', [\n",
    "    'term',\n",
    "    'var_name',\n",
    "    'given',\n",
    "])\n",
    "\n",
    "\n",
    "def _parse_term(term):\n",
    "    # Given a term like (a|b,c), returns a list of variables\n",
    "    # and conditioned-on variables\n",
    "    assert term[0] == '(' and term[-1] == ')'\n",
    "    term_variables = term[1:-1]\n",
    "\n",
    "    # Handle conditionals\n",
    "    if '|' in term_variables:\n",
    "        var, given = term_variables.split('|')\n",
    "        given = given.split(',')\n",
    "    else:\n",
    "        var = term_variables\n",
    "        given = []\n",
    "\n",
    "    return var, given\n",
    "\n",
    "\n",
    "def _parse_model_string_into_terms(model_string):\n",
    "    return [\n",
    "        ParsedTerm('p' + term, *_parse_term(term))\n",
    "        for term in model_string.split('p')\n",
    "        if term\n",
    "    ]\n",
    "\n",
    "def parse_model_into_variables_and_factors(model_string):\n",
    "    # Takes in a model_string such as p(h1)p(h2∣h1)p(v1∣h1)p(v2∣h2) and returns a\n",
    "    # dictionary of variable names to variables and a list of factors.\n",
    "    \n",
    "    # Split model_string into ParsedTerms\n",
    "    parsed_terms = _parse_model_string_into_terms(model_string)\n",
    "    \n",
    "    # First, extract all of the variables from the model_string (h1, h2, v1, v2). \n",
    "    # These each will be a new Variable that are referenced from Factors below.\n",
    "    variables = {}\n",
    "    for parsed_term in parsed_terms:\n",
    "        # if the variable name wasn't seen yet, add it to the variables dict\n",
    "        if parsed_term.var_name not in variables:\n",
    "            variables[parsed_term.var_name] = Variable(parsed_term.var_name)\n",
    "\n",
    "    # Now extract factors from the model. Each term (e.g. \"p(v1|h1)\") corresponds to \n",
    "    # a factor. \n",
    "    # Then find all variables in this term (\"v1\", \"h1\") and add the corresponding Variables\n",
    "    # as neighbors to the new Factor, and this Factor to the Variables' neighbors.\n",
    "    factors = []\n",
    "    for parsed_term in parsed_terms:\n",
    "        # This factor will be neighbors with all \"variables\" (left-hand side variables) and given variables\n",
    "        new_factor = Factor(parsed_term.term)\n",
    "        all_var_names = [parsed_term.var_name] + parsed_term.given\n",
    "        for var_name in all_var_names:\n",
    "            new_factor.add_neighbor(variables[var_name])\n",
    "            variables[var_name].add_neighbor(new_factor)\n",
    "        factors.append(new_factor)\n",
    "\n",
    "    return factors, variables"
   ]
  },
  {
   "cell_type": "code",
   "execution_count": 13,
   "id": "11905273",
   "metadata": {},
   "outputs": [
    {
     "data": {
      "text/plain": [
       "([Factor(p(h1), [h1]),\n",
       "  Factor(p(h2|h1), [h2, h1]),\n",
       "  Factor(p(v1|h1), [v1, h1]),\n",
       "  Factor(p(v2|h2), [v2, h2])],\n",
       " {'h1': Variable(h1, [p(h1), p(h2|h1), p(v1|h1)]),\n",
       "  'h2': Variable(h2, [p(h2|h1), p(v2|h2)]),\n",
       "  'v1': Variable(v1, [p(v1|h1)]),\n",
       "  'v2': Variable(v2, [p(v2|h2)])})"
      ]
     },
     "execution_count": 13,
     "metadata": {},
     "output_type": "execute_result"
    }
   ],
   "source": [
    "parse_model_into_variables_and_factors(\"p(h1)p(h2|h1)p(v1|h1)p(v2|h2)\")"
   ]
  },
  {
   "cell_type": "markdown",
   "id": "2060b16d",
   "metadata": {},
   "source": [
    "#### Adding distributions to graph"
   ]
  },
  {
   "cell_type": "code",
   "execution_count": 14,
   "id": "b46e65a9",
   "metadata": {},
   "outputs": [],
   "source": [
    "class PGM(object):\n",
    "    def __init__(self, factors, variables):\n",
    "        self._factors = factors\n",
    "        self._variables = variables\n",
    "\n",
    "    @classmethod\n",
    "    def from_string(cls, model_string):\n",
    "        factors, variables = parse_model_into_variables_and_factors(model_string)\n",
    "        return PGM(factors, variables)\n",
    "\n",
    "    def set_data(self, data):\n",
    "        # Keep track of variable dimensions to check for shape mistakes\n",
    "        var_dims = {}\n",
    "        for factor in self._factors:\n",
    "            factor_data = data[factor.name]\n",
    "\n",
    "            if set(factor_data.axes_labels) != set(v.name for v in factor.neighbors):\n",
    "                missing_axes = set(v.name for v in factor.neighbors) - set(data[factor.name].axes_labels)\n",
    "                raise ValueError(\"data[{}] is missing axes: {}\".format(factor.name, missing_axes))\n",
    "                \n",
    "            for var_name, dim in zip(factor_data.axes_labels, factor_data.array.shape):\n",
    "                if var_name not in var_dims:\n",
    "                    var_dims[var_name] = dim\n",
    "    \n",
    "                if var_dims[var_name] != dim:\n",
    "                    raise ValueError(\"data[{}] axes is wrong size, {}. Expected {}\".format(factor.name, dim, var_dims[var_name]))            \n",
    "                    \n",
    "            factor.data = data[factor.name]\n",
    "            \n",
    "    def variable_from_name(self, var_name):\n",
    "        return self._variables[var_name]"
   ]
  },
  {
   "cell_type": "code",
   "execution_count": 15,
   "id": "cb284947",
   "metadata": {},
   "outputs": [],
   "source": [
    "p_h1 = LabeledArray(np.array([[0.2], [0.8]]), ['h1'])\n",
    "p_h2_given_h1 = LabeledArray(np.array([[0.5, 0.2], [0.5, 0.8]]), ['h2', 'h1'])\n",
    "p_v1_given_h1 = LabeledArray(np.array([[0.6, 0.1], [0.4, 0.9]]), ['v1', 'h1'])\n",
    "p_v2_given_h2 = LabeledArray(p_v1_given_h1.array, ['v2', 'h2'])\n",
    "\n",
    "assert is_joint_prob(p_h1)\n",
    "assert is_conditional_prob(p_h2_given_h1, 'h2')\n",
    "assert is_conditional_prob(p_v1_given_h1, 'v1')\n",
    "assert is_conditional_prob(p_v2_given_h2, 'v2')"
   ]
  },
  {
   "cell_type": "code",
   "execution_count": 16,
   "id": "74b395a7",
   "metadata": {},
   "outputs": [],
   "source": [
    "pgm = PGM.from_string(\"p(h1)p(h2|h1)p(v1|h1)p(v2|h2)\")\n",
    "\n",
    "pgm.set_data({\n",
    "    \"p(h1)\": p_h1,\n",
    "    \"p(h2|h1)\": p_h2_given_h1,\n",
    "    \"p(v1|h1)\": p_v1_given_h1,\n",
    "    \"p(v2|h2)\": p_v2_given_h2,\n",
    "})"
   ]
  },
  {
   "cell_type": "markdown",
   "id": "a0c605c6",
   "metadata": {},
   "source": [
    "#### Belief Propagation"
   ]
  },
  {
   "cell_type": "code",
   "execution_count": 17,
   "id": "94843541",
   "metadata": {},
   "outputs": [],
   "source": [
    "def _variable_to_factor_messages(variable, factor):\n",
    "    # Take the product over all incoming factors into this variable except the variable\n",
    "    incoming_messages = [\n",
    "        _factor_to_variable_message(neighbor_factor, variable)\n",
    "        for neighbor_factor in variable.neighbors\n",
    "        if neighbor_factor.name != factor.name\n",
    "    ]\n",
    "\n",
    "    # If there are no incoming messages, this is 1\n",
    "    return np.prod(incoming_messages, axis=0)"
   ]
  },
  {
   "cell_type": "code",
   "execution_count": 18,
   "id": "043edc72",
   "metadata": {},
   "outputs": [],
   "source": [
    "def _factor_to_variable_messages(factor, variable):\n",
    "    # Compute the product\n",
    "    factor_dist = np.copy(factor.data.array)\n",
    "    for neighbor_variable in factor.neighbors:\n",
    "        if neighbor_variable.name == variable.name:\n",
    "            continue\n",
    "        incoming_message = variable_to_factor_messages(neighbor_variable, factor)\n",
    "        factor_dist *= tile_to_other_dist_along_axis_name(\n",
    "            LabeledArray(incoming_message, [neighbor_variable.name]),\n",
    "            factor.data\n",
    "        ).array\n",
    "    # Sum over the axes that aren't `variable`\n",
    "    other_axes = other_axes_from_labeled_axes(factor.data, variable.name)\n",
    "    return np.squeeze(np.sum(factor_dist, axis=other_axes))"
   ]
  },
  {
   "cell_type": "code",
   "execution_count": 19,
   "id": "bb3251a6",
   "metadata": {},
   "outputs": [],
   "source": [
    "def marginal(variable):\n",
    "    # p(variable) is proportional to the product of incoming messages to variable.\n",
    "    unnorm_p = np.prod([\n",
    "        self.factor_to_variable_message(neighbor_factor, variable)\n",
    "        for neighbor_factor in variable.neighbors\n",
    "    ], axis=0)\n",
    "\n",
    "    # At this point, we can normalize this distribution\n",
    "    return unnorm_p/np.sum(unnorm_p)"
   ]
  },
  {
   "cell_type": "code",
   "execution_count": 20,
   "id": "f1c0a764",
   "metadata": {},
   "outputs": [],
   "source": [
    "class Messages(object):\n",
    "    def __init__(self):\n",
    "        self.messages = {}\n",
    "        \n",
    "    def _variable_to_factor_messages(self, variable, factor):\n",
    "        # Take the product over all incoming factors into this variable except the variable\n",
    "        incoming_messages = [\n",
    "            self.factor_to_variable_message(neighbor_factor, variable)\n",
    "            for neighbor_factor in variable.neighbors\n",
    "            if neighbor_factor.name != factor.name\n",
    "        ]\n",
    "\n",
    "        # If there are no incoming messages, this is 1\n",
    "        return np.prod(incoming_messages, axis=0)\n",
    "    \n",
    "    def _factor_to_variable_messages(self, factor, variable):\n",
    "        # Compute the product\n",
    "        factor_dist = np.copy(factor.data.array)\n",
    "        for neighbor_variable in factor.neighbors:\n",
    "            if neighbor_variable.name == variable.name:\n",
    "                continue\n",
    "            incoming_message = self.variable_to_factor_messages(neighbor_variable, factor)\n",
    "            factor_dist *= tile_to_other_dist_along_axis_name(\n",
    "                LabeledArray(incoming_message, [neighbor_variable.name]),\n",
    "                factor.data\n",
    "            ).array\n",
    "        # Sum over the axes that aren't `variable`\n",
    "        other_axes = other_axes_from_labeled_axes(factor.data, variable.name)\n",
    "        return np.squeeze(np.sum(factor_dist, axis=other_axes))\n",
    "    \n",
    "    def marginal(self, variable):\n",
    "        # p(variable) is proportional to the product of incoming messages to variable.\n",
    "        unnorm_p = np.prod([\n",
    "            self.factor_to_variable_message(neighbor_factor, variable)\n",
    "            for neighbor_factor in variable.neighbors\n",
    "        ], axis=0)\n",
    "\n",
    "        # At this point, we can normalize this distribution\n",
    "        return unnorm_p/np.sum(unnorm_p)\n",
    "    \n",
    "    def variable_to_factor_messages(self, variable, factor):\n",
    "        message_name = (variable.name, factor.name)\n",
    "        if message_name not in self.messages:\n",
    "            self.messages[message_name] = self._variable_to_factor_messages(variable, factor)\n",
    "        return self.messages[message_name]\n",
    "        \n",
    "    def factor_to_variable_message(self, factor, variable):\n",
    "        message_name = (factor.name, variable.name)\n",
    "        if message_name not in self.messages:\n",
    "            self.messages[message_name] = self._factor_to_variable_messages(factor, variable)\n",
    "        return self.messages[message_name]       "
   ]
  },
  {
   "cell_type": "code",
   "execution_count": 21,
   "id": "5a4d9e7a",
   "metadata": {},
   "outputs": [
    {
     "data": {
      "text/plain": [
       "array([0.23, 0.77])"
      ]
     },
     "execution_count": 21,
     "metadata": {},
     "output_type": "execute_result"
    }
   ],
   "source": [
    "pgm = PGM.from_string(\"p(h1)p(h2|h1)p(v1|h1)p(v2|h2)\")\n",
    "\n",
    "pgm.set_data({\n",
    "    \"p(h1)\": p_h1,\n",
    "    \"p(h2|h1)\": p_h2_given_h1,\n",
    "    \"p(v1|h1)\": p_v1_given_h1,\n",
    "    \"p(v2|h2)\": p_v2_given_h2,\n",
    "})\n",
    "\n",
    "m = Messages()\n",
    "m.marginal(pgm.variable_from_name('v2'))"
   ]
  },
  {
   "cell_type": "code",
   "execution_count": 22,
   "id": "085b7d1c",
   "metadata": {},
   "outputs": [
    {
     "data": {
      "text/plain": [
       "{('p(h1)', 'h1'): array([0.2, 0.8]),\n",
       " ('v1', 'p(v1|h1)'): 1.0,\n",
       " ('p(v1|h1)', 'h1'): array([1., 1.]),\n",
       " ('h1', 'p(h2|h1)'): array([0.2, 0.8]),\n",
       " ('p(h2|h1)', 'h2'): array([0.26, 0.74]),\n",
       " ('h2', 'p(v2|h2)'): array([0.26, 0.74]),\n",
       " ('p(v2|h2)', 'v2'): array([0.23, 0.77])}"
      ]
     },
     "execution_count": 22,
     "metadata": {},
     "output_type": "execute_result"
    }
   ],
   "source": [
    "m.messages"
   ]
  },
  {
   "cell_type": "code",
   "execution_count": 23,
   "id": "9aa02e9f",
   "metadata": {},
   "outputs": [
    {
     "data": {
      "text/plain": [
       "array([0.2, 0.8])"
      ]
     },
     "execution_count": 23,
     "metadata": {},
     "output_type": "execute_result"
    }
   ],
   "source": [
    "m.marginal(pgm.variable_from_name('v1'))"
   ]
  },
  {
   "cell_type": "code",
   "execution_count": 24,
   "id": "788c2484",
   "metadata": {},
   "outputs": [
    {
     "data": {
      "text/plain": [
       "array([0.5746, 0.318 , 0.1074])"
      ]
     },
     "execution_count": 24,
     "metadata": {},
     "output_type": "execute_result"
    }
   ],
   "source": [
    "pgm = PGM.from_string(\"p(x5|x4)p(x4|x3)p(x3|x2)p(x2|x1)p(x1)\")\n",
    "\n",
    "p_x5_given_x4 = LabeledArray(np.array([[0.7, 0.5, 0], [0.3, 0.3, 0.5], [0, 0.2, 0.5]]), ['x5', 'x4'])\n",
    "assert is_conditional_prob(p_x5_given_x4, 'x5')\n",
    "p_x4_given_x3 = LabeledArray(p_x5_given_x4.array, ['x4', 'x3'])\n",
    "p_x3_given_x2 = LabeledArray(p_x5_given_x4.array, ['x3', 'x2'])\n",
    "p_x2_given_x1 = LabeledArray(p_x5_given_x4.array, ['x2', 'x1'])\n",
    "p_x1 = LabeledArray(np.array([1, 0, 0]), ['x1'])\n",
    "\n",
    "pgm.set_data({\n",
    "    \"p(x5|x4)\": p_x5_given_x4,\n",
    "    \"p(x4|x3)\": p_x4_given_x3,\n",
    "    \"p(x3|x2)\": p_x3_given_x2,\n",
    "    \"p(x2|x1)\": p_x2_given_x1,\n",
    "    \"p(x1)\": p_x1,\n",
    "})\n",
    "\n",
    "Messages().marginal(pgm.variable_from_name('x5'))"
   ]
  },
  {
   "cell_type": "code",
   "execution_count": null,
   "id": "64039bf4",
   "metadata": {},
   "outputs": [],
   "source": []
  },
  {
   "cell_type": "code",
   "execution_count": null,
   "id": "37814739",
   "metadata": {},
   "outputs": [],
   "source": []
  },
  {
   "cell_type": "code",
   "execution_count": null,
   "id": "551e9029",
   "metadata": {},
   "outputs": [],
   "source": []
  },
  {
   "cell_type": "markdown",
   "id": "2feb3b72",
   "metadata": {},
   "source": [
    "### Message Passing with DPI\n",
    "\n",
    "First, we learn the instantaneous posterior distribution of the first image, $p(x_{1} | y_{1})$, which corresponds to the first unary potential $\\phi_{1} = p(y_{1} | x_{1}) p(x_{1})$. We do this by training the DPI procedure using the first set of sparse observations $y_{1}$, resulting in a flow-based generative model from which we sample $x_{1}$\n",
    "\n",
    "$x_{1} \\sim q_{\\theta_{1}} (x_{1}) \\Leftrightarrow x_{1} = G_{\\theta_{1}} (z), z \\sim \\mathcal{N} (0,1)$\n",
    "\n",
    "Where, as described previously, the weights are learned through the optimization:\n",
    "\n",
    "\\begin{equation*}\n",
    "    \\begin{aligned}\n",
    "        \\theta_{1}^{*} &= \\text{argmin}_{\\theta_{1}} \\mathbb{E}_{x_{1} \\sim q_{\\theta_{1}} (x_{1})} [- \\log p(y_{1}|x_{1}) - \\log p(x_{1}) + \\log q_{\\theta_{1}} (x_{1})] \\\\\n",
    "        &= \\text{argmin}_{\\theta_{1}} \\sum_{k=1}^{N} \\left[ \\mathcal{L} (y_{1}, f(G_{\\theta_{1}} (z_{k}))) + \\lambda \\mathcal{R} (G_{\\theta_{1}} (z_{k})) - \\beta \\log \\left| \\text{det} \\frac{dG_{\\theta_{1}} (z_{k})}{dz_{k}} \\right| \\right]\n",
    "    \\end{aligned}\n",
    "\\end{equation*}\n",
    "\n",
    "The first forward message is calculated by taking an expectation from sampling $q_{\\theta_{1}}$:\n",
    "\n",
    "\\begin{equation*}\n",
    "    m_{1 \\rightarrow 2} (x_{2}) = \\int_{x_{1}} \\phi_{1} (x_{1}) \\psi_{1,2} (x_{1}, x_{2}) dx_{1} = \\mathbb{E}_{x_{1} \\sim q_{\\theta_{1}}} [\\psi_{1,2}(x_{1}, x_{2})]\n",
    "\\end{equation*}\n",
    "\n",
    "Note that the forward messages in the sum-product algorithm are proportional to the marginals:  $p(x_{t} | y_{1:N}) \\propto \\phi_{t} (x_{t}) m_{t-1 \\rightarrow t} (x_{t}) m_{t+1 \\rightarrow t} (x_{t})$. Since they are proportional to probability distributions, we can associate each forward and backward message with a DPI model, and each message is computed from the previous message by sampling from that message's DPI model. For the first forward message, we train a DPI model $q_{\\theta_{1 \\rightarrow 2}}$ whose weights are learned by the optimization:\n",
    "\n",
    "\\begin{equation*}\n",
    "    \\theta_{1 \\rightarrow 2}^{*} = \\text{argmin}_{\\theta_{1 \\rightarrow 2}} \\mathbb{E}_{x_{2} \\sim q_{\\theta_{1 \\rightarrow 2}}} [\\log q_{\\theta_{1 \\rightarrow 2}} (x_{2}) - \\mathbb{E}_{x_{1} \\sim q_{\\theta_{1}}} [\\psi_{1,2}(x_{1}, x_{2})]]\n",
    "\\end{equation*}\n",
    "\n",
    "\n",
    "We cast each message of the sum-product algorithm as an expectation, over samples from a trained DPI model, of the product of the unary and joint potential functions at that time step. Specifically, the next forward message becomes:\n",
    "\n",
    "\\begin{equation*}\n",
    "    m_{2 \\rightarrow 3} (x_{3}) = \\int_{x_{2}} \\phi_{2} (x_{2}) \\psi_{2,3} (x_{2}, x_{3}) m_{1 \\rightarrow 2} (x_{2}) dx_{2} = \\mathbb{E}_{x_{2} \\sim q_{\\theta_{1 \\rightarrow 2}}} [\\phi_{2} (x_{2}) \\psi_{2, 3} (x_{2}, x_{3})]\n",
    "\\end{equation*}\n",
    "\n",
    "For which we train a DPI model $G_{\\theta_{2 \\rightarrow 3}}$ to learn $q_{\\theta_{2 \\rightarrow 3}} \\approx m_{2 \\rightarrow 3}$. The weights optimization:\n",
    "\n",
    "\\begin{equation*}\n",
    "    \\theta_{2 \\rightarrow 3}^{*} = \\text{argmin}_{\\theta_{2 \\rightarrow 3}} \\mathbb{E}_{x_{3} \\sim q_{\\theta_{2 \\rightarrow 3}}} [\\log q_{\\theta_{2 \\rightarrow 3}} (x_{3}) - \\mathbb{E}_{x_{2} \\sim q_{\\theta_{1 \\rightarrow 2}}} [\\phi_{2} (x_{2}) \\psi_{2,3}(x_{2}, x_{3})]]\n",
    "\\end{equation*}\n",
    "\n",
    "Generally, each forward message $m_{t \\rightarrow t+1} (x_{t+1})$ is computed with a DPI model $G_{\\theta_{t \\rightarrow t+1}}$ that learns the approximate message $q_{\\theta_{t \\rightarrow t+1}}$ by optimizing weights $\\theta_{t \\rightarrow t+1}^{*}$\n",
    "\n",
    "\\begin{equation}\n",
    "    \\begin{aligned}\n",
    "    m_{t \\rightarrow t+1} (x_{t+1}) &= \\int_{x_{t}} \\phi_{t} (x_{t}) \\psi_{t,t+1} (x_{t}, x_{t+1}) m_{t-1 \\rightarrow t} (x_{t}) dx_{t} = \\mathbb{E}_{x_{t} \\sim q_{\\theta_{t-1 \\rightarrow t}}} [\\phi_{t} (x_{t}) \\psi_{t, t+1} (x_{t}, x_{t+1})]\n",
    "    \\\\\n",
    "    \\theta_{t \\rightarrow t+1}^{*} &= \\text{argmin}_{\\theta_{t \\rightarrow t+1}} \\mathbb{E}_{x_{t+1} \\sim q_{\\theta_{t \\rightarrow t+1}}} [\\log q_{\\theta_{t \\rightarrow t+1}} (x_{t+1}) - m_{t \\rightarrow t+1} (x_{t+1})]\n",
    "    \\end{aligned}\n",
    "\\end{equation}\n",
    "\n",
    "Note that in solving these optimization problems, we can get the exact log likelihood for each DPI model and make the substitution.\n",
    "\n",
    "Thus, we have a dynamic programming problem where we train a series of DPI models for each of the forward and backward messages, and unary potentials. Then, we get the marginal distribution of each instantaneous image, conditioned on all sparse observations, using:\n",
    "\n",
    "\\begin{equation*}\n",
    "p(x_{t} | y_{1:N}) \\propto \\phi_{t} (x_{t}) m_{t-1 \\rightarrow t} (x_{t}) m_{t+1 \\rightarrow t} (x_{t})\n",
    "\\end{equation*}\n"
   ]
  },
  {
   "cell_type": "code",
   "execution_count": null,
   "id": "b66cbc4c",
   "metadata": {},
   "outputs": [],
   "source": []
  },
  {
   "cell_type": "code",
   "execution_count": null,
   "id": "13ab88e5",
   "metadata": {},
   "outputs": [],
   "source": []
  }
 ],
 "metadata": {
  "kernelspec": {
   "display_name": "Python 3",
   "language": "python",
   "name": "python3"
  },
  "language_info": {
   "codemirror_mode": {
    "name": "ipython",
    "version": 3
   },
   "file_extension": ".py",
   "mimetype": "text/x-python",
   "name": "python",
   "nbconvert_exporter": "python",
   "pygments_lexer": "ipython3",
   "version": "3.7.10"
  }
 },
 "nbformat": 4,
 "nbformat_minor": 5
}
